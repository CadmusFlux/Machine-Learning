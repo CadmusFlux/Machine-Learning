import os
import numpy
import pandas
from keras.models import Sequential
from keras.layers import Dense 
from numpy import loadtxt


data_path = "drive/MyDrive/dataset"   #Import dataset from you drive.

dataset = loadtxt(data_path+"/dataset1.csv",delimiter=",")
X = dataset[:,0:8]
Y = dataset[:,8]

model = Sequential()
model.add(Dense(12, input_dim=8, activation='relu'))
model.add(Dense(8, activation='relu'))
model.add(Dense(1, activation='sigmoid'))

model.compile(loss='binary_crossentropy', optimizer='adam', metrics=['accuracy'])

model.fit(X,Y,batch_size=10,epochs=150)

loss,accuracy = model.evaluate(X,Y)
print(accuracy*100,loss)

predictions = model.predict_classes(X)

print(" Input"," Prediction"," Actual")
for i in range(5):

  print(X[i],predictions[i],Y[i])
